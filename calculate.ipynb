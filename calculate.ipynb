{
 "cells": [
  {
   "cell_type": "code",
   "execution_count": 16,
   "id": "7bdf3db6-b51f-4363-ae83-761308838700",
   "metadata": {},
   "outputs": [],
   "source": [
    "import pandas as pd\n",
    "import matplotlib.pyplot as plt"
   ]
  },
  {
   "cell_type": "code",
   "execution_count": 17,
   "id": "c496e448-7426-42b3-9dfd-40405c91bc56",
   "metadata": {},
   "outputs": [],
   "source": [
    "df = pd.read_csv(\"processed data/data.csv\")"
   ]
  },
  {
   "cell_type": "code",
   "execution_count": 18,
   "id": "a1822b3c-bd12-4a78-9936-8ab7f574601a",
   "metadata": {},
   "outputs": [
    {
     "data": {
      "text/html": [
       "<div>\n",
       "<style scoped>\n",
       "    .dataframe tbody tr th:only-of-type {\n",
       "        vertical-align: middle;\n",
       "    }\n",
       "\n",
       "    .dataframe tbody tr th {\n",
       "        vertical-align: top;\n",
       "    }\n",
       "\n",
       "    .dataframe thead th {\n",
       "        text-align: right;\n",
       "    }\n",
       "</style>\n",
       "<table border=\"1\" class=\"dataframe\">\n",
       "  <thead>\n",
       "    <tr style=\"text-align: right;\">\n",
       "      <th></th>\n",
       "      <th>Date</th>\n",
       "      <th>tv</th>\n",
       "      <th>pbr</th>\n",
       "    </tr>\n",
       "  </thead>\n",
       "  <tbody>\n",
       "    <tr>\n",
       "      <th>0</th>\n",
       "      <td>NaT</td>\n",
       "      <td>NaN</td>\n",
       "      <td>NaN</td>\n",
       "    </tr>\n",
       "    <tr>\n",
       "      <th>1</th>\n",
       "      <td>1 days</td>\n",
       "      <td>0.31</td>\n",
       "      <td>-0.180000</td>\n",
       "    </tr>\n",
       "    <tr>\n",
       "      <th>2</th>\n",
       "      <td>1 days</td>\n",
       "      <td>-0.05</td>\n",
       "      <td>-0.500000</td>\n",
       "    </tr>\n",
       "    <tr>\n",
       "      <th>3</th>\n",
       "      <td>1 days</td>\n",
       "      <td>-0.26</td>\n",
       "      <td>-0.080000</td>\n",
       "    </tr>\n",
       "    <tr>\n",
       "      <th>4</th>\n",
       "      <td>3 days</td>\n",
       "      <td>-0.35</td>\n",
       "      <td>0.350000</td>\n",
       "    </tr>\n",
       "    <tr>\n",
       "      <th>...</th>\n",
       "      <td>...</td>\n",
       "      <td>...</td>\n",
       "      <td>...</td>\n",
       "    </tr>\n",
       "    <tr>\n",
       "      <th>246</th>\n",
       "      <td>1 days</td>\n",
       "      <td>-0.02</td>\n",
       "      <td>-0.050000</td>\n",
       "    </tr>\n",
       "    <tr>\n",
       "      <th>247</th>\n",
       "      <td>1 days</td>\n",
       "      <td>0.06</td>\n",
       "      <td>0.780000</td>\n",
       "    </tr>\n",
       "    <tr>\n",
       "      <th>248</th>\n",
       "      <td>1 days</td>\n",
       "      <td>0.24</td>\n",
       "      <td>0.379999</td>\n",
       "    </tr>\n",
       "    <tr>\n",
       "      <th>249</th>\n",
       "      <td>3 days</td>\n",
       "      <td>0.02</td>\n",
       "      <td>0.110001</td>\n",
       "    </tr>\n",
       "    <tr>\n",
       "      <th>250</th>\n",
       "      <td>1 days</td>\n",
       "      <td>-0.07</td>\n",
       "      <td>-0.119999</td>\n",
       "    </tr>\n",
       "  </tbody>\n",
       "</table>\n",
       "<p>251 rows × 3 columns</p>\n",
       "</div>"
      ],
      "text/plain": [
       "      Date    tv       pbr\n",
       "0      NaT   NaN       NaN\n",
       "1   1 days  0.31 -0.180000\n",
       "2   1 days -0.05 -0.500000\n",
       "3   1 days -0.26 -0.080000\n",
       "4   3 days -0.35  0.350000\n",
       "..     ...   ...       ...\n",
       "246 1 days -0.02 -0.050000\n",
       "247 1 days  0.06  0.780000\n",
       "248 1 days  0.24  0.379999\n",
       "249 3 days  0.02  0.110001\n",
       "250 1 days -0.07 -0.119999\n",
       "\n",
       "[251 rows x 3 columns]"
      ]
     },
     "execution_count": 18,
     "metadata": {},
     "output_type": "execute_result"
    }
   ],
   "source": [
    "df = df[[\"Date\", \"tv\", \"pbr\"]]\n",
    "df['Date'] = pd.to_datetime(df['Date'])\n",
    "# df.set_index('Date', inplace=True)\n",
    "df.diff()"
   ]
  },
  {
   "cell_type": "markdown",
   "id": "44add5db-1d6c-4d3e-8277-218077944ff2",
   "metadata": {},
   "source": [
    "## Lets visulise data"
   ]
  },
  {
   "cell_type": "code",
   "execution_count": 19,
   "id": "9d18a590-8686-40bf-a9b4-1996f58d49b2",
   "metadata": {},
   "outputs": [
    {
     "data": {
      "image/png": "[encoded data removed]",
      "text/plain": [
       "<Figure size 640x480 with 1 Axes>"
      ]
     },
     "metadata": {},
     "output_type": "display_data"
    }
   ],
   "source": [
    "# Plotting\n",
    "df.plot()\n",
    "plt.title('Share Prices Over Time')\n",
    "plt.xlabel('Date')\n",
    "plt.ylabel('Share Price')\n",
    "plt.legend()\n",
    "plt.show()"
   ]
  },
  {
   "cell_type": "code",
   "execution_count": 20,
   "id": "5120da75-840f-442d-85a8-5f9b2e1c9352",
   "metadata": {},
   "outputs": [
    {
     "name": "stdout",
     "output_type": "stream",
     "text": [
      "Pearson Correlation Coefficient: -0.771036792649609\n",
      "P-value: 1.024048946162528e-50\n"
     ]
    }
   ],
   "source": [
    "from scipy.stats import pearsonr\n",
    "\n",
    "correlation, p_value = pearsonr(list(df[\"tv\"]), list(df[\"pbr\"]))\n",
    "\n",
    "print(f'Pearson Correlation Coefficient: {correlation}')\n",
    "print(f'P-value: {p_value}')"
   ]
  },
  {
   "cell_type": "code",
   "execution_count": 12,
   "id": "cbbf9bb8-88c0-44e6-8ca8-76c61a179cff",
   "metadata": {},
   "outputs": [
    {
     "name": "stdout",
     "output_type": "stream",
     "text": [
      "Spearman's Rank Correlation: -0.7531212287538104\n",
      "P-value: 3.4997988291888304e-47\n"
     ]
    }
   ],
   "source": [
    "# Import the necessary library\n",
    "from scipy.stats import spearmanr\n",
    "\n",
    "# Calculate Spearman's Rank Correlation\n",
    "correlation, p_value = spearmanr(list(df[\"tv\"]), list(df[\"pbr\"]))\n",
    "\n",
    "print(f'Spearman\\'s Rank Correlation: {correlation}')\n",
    "print(f'P-value: {p_value}')\n"
   ]
  },
  {
   "cell_type": "code",
   "execution_count": 14,
   "id": "0b8b5a91-d0fe-40aa-8e17-67d06453498b",
   "metadata": {},
   "outputs": [
    {
     "name": "stdout",
     "output_type": "stream",
     "text": [
      "Kendall Tau Correlation: -0.52381597921911\n",
      "P-value: 6.554669298028649e-35\n"
     ]
    }
   ],
   "source": [
    "# Import the necessary library\n",
    "from scipy.stats import kendalltau\n",
    "\n",
    "# Define two sets of data\n",
    "# Replace these with your actual datasets\n",
    "data1 = [10, 20, 30, 40, 50]\n",
    "data2 = [12, 24, 33, 45, 57]\n",
    "\n",
    "# Calculate Kendall Tau Correlation\n",
    "correlation, p_value = kendalltau(list(df[\"tv\"]), list(df[\"pbr\"]))\n",
    "\n",
    "print(f'Kendall Tau Correlation: {correlation}')\n",
    "print(f'P-value: {p_value}')\n"
   ]
  },
  {
   "cell_type": "code",
   "execution_count": 17,
   "id": "e6b69fea-b3ee-4a00-8084-67a576927f2c",
   "metadata": {},
   "outputs": [
    {
     "name": "stdout",
     "output_type": "stream",
     "text": [
      "Pearson Correlation Coefficient (on smoothed data): 0.9998188884547634\n",
      "P-value: 2.925777277062998e-06\n"
     ]
    }
   ],
   "source": [
    "from statsmodels.tsa.api import ExponentialSmoothing\n",
    "from scipy.stats import pearsonr\n",
    "import numpy as np\n",
    "\n",
    "# Sample data: Replace these with your actual datasets\n",
    "data1 = np.array([10, 20, 30, 40, 50])\n",
    "data2 = np.array([12, 24, 33, 45, 57])\n",
    "\n",
    "# Apply exponential smoothing to both datasets\n",
    "# The smoothing_level (alpha) is set to 0.2 for both, but you can adjust this value\n",
    "smoothed_data1 = ExponentialSmoothing(data1).fit(smoothing_level=0.2, optimized=False).fittedvalues\n",
    "smoothed_data2 = ExponentialSmoothing(data2).fit(smoothing_level=0.2, optimized=False).fittedvalues\n",
    "\n",
    "# Calculate Pearson correlation on the smoothed data\n",
    "correlation, p_value = pearsonr(smoothed_data1, smoothed_data2)\n",
    "\n",
    "print(f'Pearson Correlation Coefficient (on smoothed data): {correlation}')\n",
    "print(f'P-value: {p_value}')\n"
   ]
  },
  {
   "cell_type": "code",
   "execution_count": 18,
   "id": "247c863e-af1f-42f0-84aa-a3433721114c",
   "metadata": {},
   "outputs": [
    {
     "name": "stdout",
     "output_type": "stream",
     "text": [
      "Date\n",
      "2023-01-31         NaN\n",
      "2023-02-01         NaN\n",
      "2023-02-02         NaN\n",
      "2023-02-03         NaN\n",
      "2023-02-06         NaN\n",
      "                ...   \n",
      "2024-01-24   -0.172320\n",
      "2024-01-25   -0.190178\n",
      "2024-01-26   -0.200419\n",
      "2024-01-29   -0.127868\n",
      "2024-01-30   -0.059973\n",
      "Length: 251, dtype: float64\n"
     ]
    }
   ],
   "source": [
    "import pandas as pd\n",
    "import numpy as np\n",
    "\n",
    "\n",
    "# Calculate rolling correlation\n",
    "window_size = 30  # Define the rolling window size\n",
    "rolling_corr = df['tv'].rolling(window=window_size).corr(df['pbr'])\n",
    "\n",
    "# Display the rolling correlation\n",
    "print(rolling_corr)\n"
   ]
  }
 ],
 "metadata": {
  "kernelspec": {
   "display_name": "Python 3 (ipykernel)",
   "language": "python",
   "name": "python3"
  },
  "language_info": {
   "codemirror_mode": {
    "name": "ipython",
    "version": 3
   },
   "file_extension": ".py",
   "mimetype": "text/x-python",
   "name": "python",
   "nbconvert_exporter": "python",
   "pygments_lexer": "ipython3",
   "version": "3.11.5"
  }
 },
 "nbformat": 4,
 "nbformat_minor": 5
}
